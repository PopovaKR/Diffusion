{
  "cells": [
    {
      "cell_type": "code",
      "execution_count": 419,
      "id": "89cf6b17",
      "metadata": {
        "id": "89cf6b17"
      },
      "outputs": [],
      "source": [
        "import gmshparser\n",
        "import openmesh as om\n",
        "import numpy as np\n",
        "from scipy.integrate import tplquad, dblquad"
      ]
    },
    {
      "cell_type": "code",
      "execution_count": 420,
      "id": "2eb58d3e",
      "metadata": {},
      "outputs": [],
      "source": [
        "import numpy as np\n",
        "from scipy.integrate import tplquad, dblquad\n",
        "import time\n"
      ]
    },
    {
      "cell_type": "code",
      "execution_count": 421,
      "id": "c58474e7",
      "metadata": {},
      "outputs": [],
      "source": [
        "def time_of_function(function):\n",
        "    def wrapped(*args):\n",
        "        start_time = time.perf_counter_ns()\n",
        "        res = function(*args)\n",
        "        print(time.perf_counter_ns() - start_time)\n",
        "        return res\n",
        "    return wrapped\n"
      ]
    },
    {
      "cell_type": "code",
      "execution_count": 422,
      "id": "6ae68d61",
      "metadata": {},
      "outputs": [],
      "source": [
        "# @time_of_function\n",
        "def net_init(filename):\n",
        "    node_res = []\n",
        "    tetra_res = []\n",
        "    mesh = gmshparser.parse(filename)\n",
        "    for entity in mesh.get_node_entities():\n",
        "        for node in entity.get_nodes():\n",
        "            ncoords = node.get_coordinates()\n",
        "            node_res.append(ncoords)\n",
        "    for entity in mesh.get_element_entities():\n",
        "        for element in entity.get_elements():\n",
        "            elcord = element.get_connectivity()\n",
        "            tetra_res.append(elcord)\n",
        "    # print(\"net_init\")\n",
        "\n",
        "    return [node_res, tetra_res]"
      ]
    },
    {
      "cell_type": "code",
      "execution_count": 423,
      "id": "a4e125b3",
      "metadata": {},
      "outputs": [],
      "source": [
        "def save_net(results):\n",
        "    mesh = om.PolyMesh()\n",
        "    vh = []\n",
        "    fs = []\n",
        "    for i in range(0, len(results[0])):\n",
        "        vh1 = mesh.add_vertex(results[0][i])\n",
        "        vh.append(vh1)\n",
        "\n",
        "    for i in range(0, len(results[1])):\n",
        "        face1 = mesh.add_face(vh[results[1][i][0]-1], vh[results[1][i][1]-1], vh[results[1][i][2]-1], vh[results[1][i][3]-1])\n",
        "        fs.append(face1)\n",
        "    om.write_mesh('result.obj', mesh)"
      ]
    },
    {
      "cell_type": "code",
      "execution_count": 424,
      "id": "0134aea6",
      "metadata": {},
      "outputs": [],
      "source": [
        "# @time_of_function\n",
        "def D(x):\n",
        "\n",
        "    return [[[1 + x**2, 0, 0], [0, 0.1 * (1 + x**2), 0],[0, 0, 0.01 * (1 + x**2)]]]"
      ]
    },
    {
      "cell_type": "code",
      "execution_count": 425,
      "id": "116a7714",
      "metadata": {},
      "outputs": [],
      "source": [
        "# @time_of_function\n",
        "def volume_integral(f, tetrahedron):\n",
        "    p0 = np.array(tetrahedron[0]).reshape((3, 1))\n",
        "    p1 = np.array(tetrahedron[1]).reshape((3, 1))\n",
        "    p2 = np.array(tetrahedron[2]).reshape((3, 1))\n",
        "    p3 = np.array(tetrahedron[3]).reshape((3, 1))\n",
        "\n",
        "    matrix = p1 - p0\n",
        "    matrix = np.hstack((matrix, p2-p0))\n",
        "    matrix = np.hstack((matrix, p3-p0))\n",
        "\n",
        "    A = np.linalg.inv(matrix)\n",
        "    jacob = np.linalg.det(A)\n",
        "\n",
        "    def f_new(x, y, z):\n",
        "        vec = np.array([x, y, z]).reshape((3, 1))\n",
        "        vec_new = A@(vec - p0)\n",
        "        return f(vec_new[0], vec_new[1], vec_new[2])/(jacob)\n",
        "\n",
        "    def surf1(x, y):\n",
        "        return 0\n",
        "\n",
        "    def surf2(x, y):\n",
        "\n",
        "        if 0 <= x <= 1 and 0 <= y <= 1:\n",
        "            return 1 - x - y\n",
        "        return 0\n",
        "\n",
        "    def func1(x):\n",
        "        return 0\n",
        "\n",
        "    def func2(x):\n",
        "        if 0 <= x <= 1:\n",
        "            return 1-x\n",
        "        return 0\n",
        "    # print(\"volume_integral\")\n",
        "\n",
        "    return tplquad(f_new, 0, 1, func1, func2, surf1, surf2)[0]"
      ]
    },
    {
      "cell_type": "code",
      "execution_count": 426,
      "id": "f2c5517e",
      "metadata": {},
      "outputs": [],
      "source": [
        "# @time_of_function\n",
        "def surface_integral(f, triangle):\n",
        "    p0 = np.array(triangle[0]).reshape((2, 1))\n",
        "    p1 = np.array(triangle[1]).reshape((2, 1))\n",
        "    p2 = np.array(triangle[2]).reshape((2, 1))\n",
        "\n",
        "    matrix = p1 - p0\n",
        "    matrix = np.hstack((matrix, p2 - p0))\n",
        "    A = np.linalg.inv(matrix)\n",
        "    jacob = np.linalg.det(A)\n",
        "\n",
        "    def f_new(x, y):\n",
        "        vec = np.array([x, y]).reshape((2, 1))\n",
        "        vec_new = A@(vec - p0)\n",
        "        return f(vec_new[0], vec_new[1])/(jacob)\n",
        "\n",
        "    def func1(x):\n",
        "        return 0\n",
        "\n",
        "    def func2(x):\n",
        "        if 0 <= x <= 1:\n",
        "            return 1-x\n",
        "        return 0\n",
        "    # print(\"surface_integral\")\n",
        "\n",
        "    return dblquad(f_new, 0, 1, func1, func2)[0]"
      ]
    },
    {
      "cell_type": "code",
      "execution_count": 427,
      "id": "cf6da967",
      "metadata": {},
      "outputs": [],
      "source": [
        "# @time_of_function\n",
        "def phi(x:np.array, p1:np.array, p2:np.array, p3:np.array, p4:np.array):\n",
        "    P = np.array([p1, p2, p3, p4]).transpose()\n",
        "    P = np.vstack((P, [1, 1, 1, 1]))\n",
        "    P = np.linalg.inv(P)\n",
        "    x = np.append(x, 1)\n",
        "    ans = P @ x\n",
        "        \n",
        "    # print(\"phi\")\n",
        "    return ans"
      ]
    },
    {
      "cell_type": "code",
      "execution_count": 428,
      "id": "aed5b0be",
      "metadata": {},
      "outputs": [],
      "source": [
        "# @time_of_function\n",
        "def grad_phi(p1:np.array, p2:np.array, p3:np.array, p4:np.array):\n",
        "    P = np.array([p1, p2, p3, p4]).transpose()\n",
        "    P = np.vstack((P, [1, 1, 1, 1]))\n",
        "    P = np.linalg.inv(P)\n",
        "    # print(\"grad_phi\")  \n",
        "    return np.array([P[0, 0:3],P[1, 0:3], P[2, 0:3], P[3, 0:3]])"
      ]
    },
    {
      "cell_type": "code",
      "execution_count": 429,
      "id": "49eebbb3",
      "metadata": {},
      "outputs": [],
      "source": [
        "# @time_of_function\n",
        "def right_side(x:np.array):\n",
        "#Функция, возвращающая правую часть r(x) уравнения\n",
        "    r = - (0.05*x[0]+0.0006875*x[0]**2+0.0006875)*np.exp((x[0]+x[1]+20)/40) - 0.001*(x[0]**2+1)\n",
        "    # print(\"right_side\")\n",
        "    return(r)"
      ]
    },
    {
      "cell_type": "code",
      "execution_count": 430,
      "id": "20a419f4",
      "metadata": {},
      "outputs": [],
      "source": [
        "def dirichlet(x:np.array):\n",
        "#Функция, возвращающая граничное условие Дирихле\n",
        "    gD = np.exp((x[0]+x[1]+20)/40) + (x[2]+10)**2/20\n",
        "    # print(\"gD\")\n",
        "    return gD"
      ]
    },
    {
      "cell_type": "code",
      "execution_count": 431,
      "id": "ccc57c0e",
      "metadata": {},
      "outputs": [],
      "source": [
        "def neumann(x:np.array,p0:np.array, p1:np.array, p2:np.array):\n",
        "#Функция, возвращающая граничное условие Неймана\n",
        "    dgradu = np.array([0.025*(1+x[0]**2)*np.exp((x[0]+x[1]+20)/40), 0.0025*(1+x[0]**2)*np.exp((x[0]+x[1]+20)/40), 0.001*(x[0]**2+1)*(x[2]+10)])\n",
        "    norma = np.ones(3)\n",
        "    vec1 = p1 - p0\n",
        "    vec2 = p2 - p0 \n",
        "    norma = np.cross(vec1, vec2)\n",
        "    norma = norma / np.linalg.norm(norma)\n",
        "    gN = np.matmul(norma, dgradu)\n",
        "    # print(\"neumann\")\n",
        "    return gN"
      ]
    },
    {
      "cell_type": "code",
      "execution_count": 434,
      "id": "d44c26da",
      "metadata": {},
      "outputs": [],
      "source": [
        "def solver(net):\n",
        "\n",
        "    Nodes = net[0]\n",
        "    N = len(Nodes)\n",
        "\n",
        "    C = net[1]\n",
        "\n",
        "    A = np.zeros((N, N))\n",
        "\n",
        "    R = np.zeros((N))\n",
        "\n",
        "    for c in C:\n",
        "\n",
        "        t = [list(Nodes[c[0]]), list(Nodes[c[1]]), list(Nodes[c[2]]), list(Nodes[c[3]])]\n",
        "\n",
        "        g_phi = grad_phi(t[0], t[1], t[2], t[3])\n",
        "\n",
        "        for i in range(0, 3):\n",
        "            # R[c[i]] = R[c[i]] \n",
        "            for j in range(0, 3):\n",
        "\n",
        "                f = lambda x, y, z : np.matmul(np.matmul(D(x[0]),(g_phi[i])),(g_phi[j]))\n",
        "\n",
        "                A[c[i],c[j]] = A[c[i],c[j]] + volume_integral(f, t)\n",
        "\n",
        "    return A\n",
        "    "
      ]
    },
    {
      "cell_type": "code",
      "execution_count": 435,
      "id": "d33b9bba",
      "metadata": {},
      "outputs": [
        {
          "ename": "KeyboardInterrupt",
          "evalue": "",
          "output_type": "error",
          "traceback": [
            "\u001b[0;31m---------------------------------------------------------------------------\u001b[0m",
            "\u001b[0;31mKeyboardInterrupt\u001b[0m                         Traceback (most recent call last)",
            "Cell \u001b[0;32mIn [435], line 2\u001b[0m\n\u001b[1;32m      1\u001b[0m net \u001b[39m=\u001b[39m net_init(\u001b[39m\"\u001b[39m\u001b[39mventrical1.msh\u001b[39m\u001b[39m\"\u001b[39m)\n\u001b[0;32m----> 2\u001b[0m solver(net)\n\u001b[1;32m      3\u001b[0m \u001b[39mprint\u001b[39m(\u001b[39mlen\u001b[39m(net[\u001b[39m1\u001b[39m]))\n",
            "Cell \u001b[0;32mIn [434], line 24\u001b[0m, in \u001b[0;36msolver\u001b[0;34m(net)\u001b[0m\n\u001b[1;32m     20\u001b[0m         \u001b[39mfor\u001b[39;00m j \u001b[39min\u001b[39;00m \u001b[39mrange\u001b[39m(\u001b[39m0\u001b[39m, \u001b[39m3\u001b[39m):\n\u001b[1;32m     22\u001b[0m             f \u001b[39m=\u001b[39m \u001b[39mlambda\u001b[39;00m x, y, z : np\u001b[39m.\u001b[39mmatmul(np\u001b[39m.\u001b[39mmatmul(D(x[\u001b[39m0\u001b[39m]),(g_phi[i])),(g_phi[j]))\n\u001b[0;32m---> 24\u001b[0m             A[c[i],c[j]] \u001b[39m=\u001b[39m A[c[i],c[j]] \u001b[39m+\u001b[39m volume_integral(f, t)\n\u001b[1;32m     26\u001b[0m \u001b[39mreturn\u001b[39;00m A\n",
            "Cell \u001b[0;32mIn [425], line 38\u001b[0m, in \u001b[0;36mvolume_integral\u001b[0;34m(f, tetrahedron)\u001b[0m\n\u001b[1;32m     35\u001b[0m     \u001b[39mreturn\u001b[39;00m \u001b[39m0\u001b[39m\n\u001b[1;32m     36\u001b[0m \u001b[39m# print(\"volume_integral\")\u001b[39;00m\n\u001b[0;32m---> 38\u001b[0m \u001b[39mreturn\u001b[39;00m tplquad(f_new, \u001b[39m0\u001b[39;49m, \u001b[39m1\u001b[39;49m, func1, func2, surf1, surf2)[\u001b[39m0\u001b[39m]\n",
            "File \u001b[0;32m~/.local/lib/python3.10/site-packages/scipy/integrate/_quadpack_py.py:846\u001b[0m, in \u001b[0;36mtplquad\u001b[0;34m(func, a, b, gfun, hfun, qfun, rfun, args, epsabs, epsrel)\u001b[0m\n\u001b[1;32m    842\u001b[0m     \u001b[39mreturn\u001b[39;00m [gfun(args[\u001b[39m0\u001b[39m]) \u001b[39mif\u001b[39;00m callable(gfun) \u001b[39melse\u001b[39;00m gfun,\n\u001b[1;32m    843\u001b[0m             hfun(args[\u001b[39m0\u001b[39m]) \u001b[39mif\u001b[39;00m callable(hfun) \u001b[39melse\u001b[39;00m hfun]\n\u001b[1;32m    845\u001b[0m ranges \u001b[39m=\u001b[39m [ranges0, ranges1, [a, b]]\n\u001b[0;32m--> 846\u001b[0m \u001b[39mreturn\u001b[39;00m nquad(func, ranges, args\u001b[39m=\u001b[39;49margs,\n\u001b[1;32m    847\u001b[0m         opts\u001b[39m=\u001b[39;49m{\u001b[39m\"\u001b[39;49m\u001b[39mepsabs\u001b[39;49m\u001b[39m\"\u001b[39;49m: epsabs, \u001b[39m\"\u001b[39;49m\u001b[39mepsrel\u001b[39;49m\u001b[39m\"\u001b[39;49m: epsrel})\n",
            "File \u001b[0;32m~/.local/lib/python3.10/site-packages/scipy/integrate/_quadpack_py.py:1097\u001b[0m, in \u001b[0;36mnquad\u001b[0;34m(func, ranges, args, opts, full_output)\u001b[0m\n\u001b[1;32m   1095\u001b[0m \u001b[39melse\u001b[39;00m:\n\u001b[1;32m   1096\u001b[0m     opts \u001b[39m=\u001b[39m [opt \u001b[39mif\u001b[39;00m callable(opt) \u001b[39melse\u001b[39;00m _OptFunc(opt) \u001b[39mfor\u001b[39;00m opt \u001b[39min\u001b[39;00m opts]\n\u001b[0;32m-> 1097\u001b[0m \u001b[39mreturn\u001b[39;00m _NQuad(func, ranges, opts, full_output)\u001b[39m.\u001b[39;49mintegrate(\u001b[39m*\u001b[39;49margs)\n",
            "File \u001b[0;32m~/.local/lib/python3.10/site-packages/scipy/integrate/_quadpack_py.py:1151\u001b[0m, in \u001b[0;36m_NQuad.integrate\u001b[0;34m(self, *args, **kwargs)\u001b[0m\n\u001b[1;32m   1149\u001b[0m \u001b[39melse\u001b[39;00m:\n\u001b[1;32m   1150\u001b[0m     f \u001b[39m=\u001b[39m partial(\u001b[39mself\u001b[39m\u001b[39m.\u001b[39mintegrate, depth\u001b[39m=\u001b[39mdepth\u001b[39m+\u001b[39m\u001b[39m1\u001b[39m)\n\u001b[0;32m-> 1151\u001b[0m quad_r \u001b[39m=\u001b[39m quad(f, low, high, args\u001b[39m=\u001b[39;49margs, full_output\u001b[39m=\u001b[39;49m\u001b[39mself\u001b[39;49m\u001b[39m.\u001b[39;49mfull_output,\n\u001b[1;32m   1152\u001b[0m               \u001b[39m*\u001b[39;49m\u001b[39m*\u001b[39;49mopt)\n\u001b[1;32m   1153\u001b[0m value \u001b[39m=\u001b[39m quad_r[\u001b[39m0\u001b[39m]\n\u001b[1;32m   1154\u001b[0m abserr \u001b[39m=\u001b[39m quad_r[\u001b[39m1\u001b[39m]\n",
            "File \u001b[0;32m~/.local/lib/python3.10/site-packages/scipy/integrate/_quadpack_py.py:411\u001b[0m, in \u001b[0;36mquad\u001b[0;34m(func, a, b, args, full_output, epsabs, epsrel, limit, points, weight, wvar, wopts, maxp1, limlst)\u001b[0m\n\u001b[1;32m    408\u001b[0m flip, a, b \u001b[39m=\u001b[39m b \u001b[39m<\u001b[39m a, \u001b[39mmin\u001b[39m(a, b), \u001b[39mmax\u001b[39m(a, b)\n\u001b[1;32m    410\u001b[0m \u001b[39mif\u001b[39;00m weight \u001b[39mis\u001b[39;00m \u001b[39mNone\u001b[39;00m:\n\u001b[0;32m--> 411\u001b[0m     retval \u001b[39m=\u001b[39m _quad(func, a, b, args, full_output, epsabs, epsrel, limit,\n\u001b[1;32m    412\u001b[0m                    points)\n\u001b[1;32m    413\u001b[0m \u001b[39melse\u001b[39;00m:\n\u001b[1;32m    414\u001b[0m     \u001b[39mif\u001b[39;00m points \u001b[39mis\u001b[39;00m \u001b[39mnot\u001b[39;00m \u001b[39mNone\u001b[39;00m:\n",
            "File \u001b[0;32m~/.local/lib/python3.10/site-packages/scipy/integrate/_quadpack_py.py:523\u001b[0m, in \u001b[0;36m_quad\u001b[0;34m(func, a, b, args, full_output, epsabs, epsrel, limit, points)\u001b[0m\n\u001b[1;32m    521\u001b[0m \u001b[39mif\u001b[39;00m points \u001b[39mis\u001b[39;00m \u001b[39mNone\u001b[39;00m:\n\u001b[1;32m    522\u001b[0m     \u001b[39mif\u001b[39;00m infbounds \u001b[39m==\u001b[39m \u001b[39m0\u001b[39m:\n\u001b[0;32m--> 523\u001b[0m         \u001b[39mreturn\u001b[39;00m _quadpack\u001b[39m.\u001b[39;49m_qagse(func,a,b,args,full_output,epsabs,epsrel,limit)\n\u001b[1;32m    524\u001b[0m     \u001b[39melse\u001b[39;00m:\n\u001b[1;32m    525\u001b[0m         \u001b[39mreturn\u001b[39;00m _quadpack\u001b[39m.\u001b[39m_qagie(func,bound,infbounds,args,full_output,epsabs,epsrel,limit)\n",
            "File \u001b[0;32m~/.local/lib/python3.10/site-packages/scipy/integrate/_quadpack_py.py:1151\u001b[0m, in \u001b[0;36m_NQuad.integrate\u001b[0;34m(self, *args, **kwargs)\u001b[0m\n\u001b[1;32m   1149\u001b[0m \u001b[39melse\u001b[39;00m:\n\u001b[1;32m   1150\u001b[0m     f \u001b[39m=\u001b[39m partial(\u001b[39mself\u001b[39m\u001b[39m.\u001b[39mintegrate, depth\u001b[39m=\u001b[39mdepth\u001b[39m+\u001b[39m\u001b[39m1\u001b[39m)\n\u001b[0;32m-> 1151\u001b[0m quad_r \u001b[39m=\u001b[39m quad(f, low, high, args\u001b[39m=\u001b[39;49margs, full_output\u001b[39m=\u001b[39;49m\u001b[39mself\u001b[39;49m\u001b[39m.\u001b[39;49mfull_output,\n\u001b[1;32m   1152\u001b[0m               \u001b[39m*\u001b[39;49m\u001b[39m*\u001b[39;49mopt)\n\u001b[1;32m   1153\u001b[0m value \u001b[39m=\u001b[39m quad_r[\u001b[39m0\u001b[39m]\n\u001b[1;32m   1154\u001b[0m abserr \u001b[39m=\u001b[39m quad_r[\u001b[39m1\u001b[39m]\n",
            "File \u001b[0;32m~/.local/lib/python3.10/site-packages/scipy/integrate/_quadpack_py.py:411\u001b[0m, in \u001b[0;36mquad\u001b[0;34m(func, a, b, args, full_output, epsabs, epsrel, limit, points, weight, wvar, wopts, maxp1, limlst)\u001b[0m\n\u001b[1;32m    408\u001b[0m flip, a, b \u001b[39m=\u001b[39m b \u001b[39m<\u001b[39m a, \u001b[39mmin\u001b[39m(a, b), \u001b[39mmax\u001b[39m(a, b)\n\u001b[1;32m    410\u001b[0m \u001b[39mif\u001b[39;00m weight \u001b[39mis\u001b[39;00m \u001b[39mNone\u001b[39;00m:\n\u001b[0;32m--> 411\u001b[0m     retval \u001b[39m=\u001b[39m _quad(func, a, b, args, full_output, epsabs, epsrel, limit,\n\u001b[1;32m    412\u001b[0m                    points)\n\u001b[1;32m    413\u001b[0m \u001b[39melse\u001b[39;00m:\n\u001b[1;32m    414\u001b[0m     \u001b[39mif\u001b[39;00m points \u001b[39mis\u001b[39;00m \u001b[39mnot\u001b[39;00m \u001b[39mNone\u001b[39;00m:\n",
            "File \u001b[0;32m~/.local/lib/python3.10/site-packages/scipy/integrate/_quadpack_py.py:523\u001b[0m, in \u001b[0;36m_quad\u001b[0;34m(func, a, b, args, full_output, epsabs, epsrel, limit, points)\u001b[0m\n\u001b[1;32m    521\u001b[0m \u001b[39mif\u001b[39;00m points \u001b[39mis\u001b[39;00m \u001b[39mNone\u001b[39;00m:\n\u001b[1;32m    522\u001b[0m     \u001b[39mif\u001b[39;00m infbounds \u001b[39m==\u001b[39m \u001b[39m0\u001b[39m:\n\u001b[0;32m--> 523\u001b[0m         \u001b[39mreturn\u001b[39;00m _quadpack\u001b[39m.\u001b[39;49m_qagse(func,a,b,args,full_output,epsabs,epsrel,limit)\n\u001b[1;32m    524\u001b[0m     \u001b[39melse\u001b[39;00m:\n\u001b[1;32m    525\u001b[0m         \u001b[39mreturn\u001b[39;00m _quadpack\u001b[39m.\u001b[39m_qagie(func,bound,infbounds,args,full_output,epsabs,epsrel,limit)\n",
            "File \u001b[0;32m~/.local/lib/python3.10/site-packages/scipy/integrate/_quadpack_py.py:1151\u001b[0m, in \u001b[0;36m_NQuad.integrate\u001b[0;34m(self, *args, **kwargs)\u001b[0m\n\u001b[1;32m   1149\u001b[0m \u001b[39melse\u001b[39;00m:\n\u001b[1;32m   1150\u001b[0m     f \u001b[39m=\u001b[39m partial(\u001b[39mself\u001b[39m\u001b[39m.\u001b[39mintegrate, depth\u001b[39m=\u001b[39mdepth\u001b[39m+\u001b[39m\u001b[39m1\u001b[39m)\n\u001b[0;32m-> 1151\u001b[0m quad_r \u001b[39m=\u001b[39m quad(f, low, high, args\u001b[39m=\u001b[39;49margs, full_output\u001b[39m=\u001b[39;49m\u001b[39mself\u001b[39;49m\u001b[39m.\u001b[39;49mfull_output,\n\u001b[1;32m   1152\u001b[0m               \u001b[39m*\u001b[39;49m\u001b[39m*\u001b[39;49mopt)\n\u001b[1;32m   1153\u001b[0m value \u001b[39m=\u001b[39m quad_r[\u001b[39m0\u001b[39m]\n\u001b[1;32m   1154\u001b[0m abserr \u001b[39m=\u001b[39m quad_r[\u001b[39m1\u001b[39m]\n",
            "File \u001b[0;32m~/.local/lib/python3.10/site-packages/scipy/integrate/_quadpack_py.py:411\u001b[0m, in \u001b[0;36mquad\u001b[0;34m(func, a, b, args, full_output, epsabs, epsrel, limit, points, weight, wvar, wopts, maxp1, limlst)\u001b[0m\n\u001b[1;32m    408\u001b[0m flip, a, b \u001b[39m=\u001b[39m b \u001b[39m<\u001b[39m a, \u001b[39mmin\u001b[39m(a, b), \u001b[39mmax\u001b[39m(a, b)\n\u001b[1;32m    410\u001b[0m \u001b[39mif\u001b[39;00m weight \u001b[39mis\u001b[39;00m \u001b[39mNone\u001b[39;00m:\n\u001b[0;32m--> 411\u001b[0m     retval \u001b[39m=\u001b[39m _quad(func, a, b, args, full_output, epsabs, epsrel, limit,\n\u001b[1;32m    412\u001b[0m                    points)\n\u001b[1;32m    413\u001b[0m \u001b[39melse\u001b[39;00m:\n\u001b[1;32m    414\u001b[0m     \u001b[39mif\u001b[39;00m points \u001b[39mis\u001b[39;00m \u001b[39mnot\u001b[39;00m \u001b[39mNone\u001b[39;00m:\n",
            "File \u001b[0;32m~/.local/lib/python3.10/site-packages/scipy/integrate/_quadpack_py.py:523\u001b[0m, in \u001b[0;36m_quad\u001b[0;34m(func, a, b, args, full_output, epsabs, epsrel, limit, points)\u001b[0m\n\u001b[1;32m    521\u001b[0m \u001b[39mif\u001b[39;00m points \u001b[39mis\u001b[39;00m \u001b[39mNone\u001b[39;00m:\n\u001b[1;32m    522\u001b[0m     \u001b[39mif\u001b[39;00m infbounds \u001b[39m==\u001b[39m \u001b[39m0\u001b[39m:\n\u001b[0;32m--> 523\u001b[0m         \u001b[39mreturn\u001b[39;00m _quadpack\u001b[39m.\u001b[39;49m_qagse(func,a,b,args,full_output,epsabs,epsrel,limit)\n\u001b[1;32m    524\u001b[0m     \u001b[39melse\u001b[39;00m:\n\u001b[1;32m    525\u001b[0m         \u001b[39mreturn\u001b[39;00m _quadpack\u001b[39m.\u001b[39m_qagie(func,bound,infbounds,args,full_output,epsabs,epsrel,limit)\n",
            "Cell \u001b[0;32mIn [425], line 18\u001b[0m, in \u001b[0;36mvolume_integral.<locals>.f_new\u001b[0;34m(x, y, z)\u001b[0m\n\u001b[1;32m     16\u001b[0m vec \u001b[39m=\u001b[39m np\u001b[39m.\u001b[39marray([x, y, z])\u001b[39m.\u001b[39mreshape((\u001b[39m3\u001b[39m, \u001b[39m1\u001b[39m))\n\u001b[1;32m     17\u001b[0m vec_new \u001b[39m=\u001b[39m A\u001b[39m@\u001b[39m(vec \u001b[39m-\u001b[39m p0)\n\u001b[0;32m---> 18\u001b[0m \u001b[39mreturn\u001b[39;00m f(vec_new[\u001b[39m0\u001b[39;49m], vec_new[\u001b[39m1\u001b[39;49m], vec_new[\u001b[39m2\u001b[39;49m])\u001b[39m/\u001b[39m(jacob)\n",
            "Cell \u001b[0;32mIn [434], line 22\u001b[0m, in \u001b[0;36msolver.<locals>.<lambda>\u001b[0;34m(x, y, z)\u001b[0m\n\u001b[1;32m     18\u001b[0m     \u001b[39mfor\u001b[39;00m i \u001b[39min\u001b[39;00m \u001b[39mrange\u001b[39m(\u001b[39m0\u001b[39m, \u001b[39m3\u001b[39m):\n\u001b[1;32m     19\u001b[0m         \u001b[39m# R[c[i]] = R[c[i]] \u001b[39;00m\n\u001b[1;32m     20\u001b[0m         \u001b[39mfor\u001b[39;00m j \u001b[39min\u001b[39;00m \u001b[39mrange\u001b[39m(\u001b[39m0\u001b[39m, \u001b[39m3\u001b[39m):\n\u001b[0;32m---> 22\u001b[0m             f \u001b[39m=\u001b[39m \u001b[39mlambda\u001b[39;00m x, y, z : np\u001b[39m.\u001b[39mmatmul(np\u001b[39m.\u001b[39;49mmatmul(D(x[\u001b[39m0\u001b[39;49m]),(g_phi[i])),(g_phi[j]))\n\u001b[1;32m     24\u001b[0m             A[c[i],c[j]] \u001b[39m=\u001b[39m A[c[i],c[j]] \u001b[39m+\u001b[39m volume_integral(f, t)\n\u001b[1;32m     26\u001b[0m \u001b[39mreturn\u001b[39;00m A\n",
            "\u001b[0;31mKeyboardInterrupt\u001b[0m: "
          ]
        }
      ],
      "source": [
        "net = net_init(\"ventrical1.msh\")\n",
        "solver(net)\n",
        "print(len(net[1]))"
      ]
    }
  ],
  "metadata": {
    "colab": {
      "provenance": []
    },
    "kernelspec": {
      "display_name": "Python 3.10.6 64-bit",
      "language": "python",
      "name": "python3"
    },
    "language_info": {
      "codemirror_mode": {
        "name": "ipython",
        "version": 3
      },
      "file_extension": ".py",
      "mimetype": "text/x-python",
      "name": "python",
      "nbconvert_exporter": "python",
      "pygments_lexer": "ipython3",
      "version": "3.10.6"
    },
    "vscode": {
      "interpreter": {
        "hash": "916dbcbb3f70747c44a77c7bcd40155683ae19c65e1c03b4aa3499c5328201f1"
      }
    }
  },
  "nbformat": 4,
  "nbformat_minor": 5
}
